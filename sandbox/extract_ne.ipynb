{
 "cells": [
  {
   "cell_type": "markdown",
   "id": "35d2a7e6-d20c-4443-a9bd-91b8469852c3",
   "metadata": {},
   "source": [
    "# Extract North East "
   ]
  },
  {
   "cell_type": "code",
   "execution_count": 1,
   "id": "b1168441-20c5-4123-8cbe-d3954573c610",
   "metadata": {},
   "outputs": [],
   "source": [
    "import rioxarray, xarray"
   ]
  },
  {
   "cell_type": "markdown",
   "id": "41766db1-59c4-492e-9b32-6a476a2fbedf",
   "metadata": {},
   "source": []
  },
  {
   "cell_type": "markdown",
   "id": "95679eb9-32ee-4516-a021-36518a073046",
   "metadata": {},
   "source": [
    "## Mosaic"
   ]
  },
  {
   "cell_type": "markdown",
   "id": "95df57be-2822-4186-b707-78cf45aa2b90",
   "metadata": {},
   "source": [
    "## Signatures"
   ]
  }
 ],
 "metadata": {
  "kernelspec": {
   "display_name": "Python 3 (ipykernel)",
   "language": "python",
   "name": "python3"
  },
  "language_info": {
   "codemirror_mode": {
    "name": "ipython",
    "version": 3
   },
   "file_extension": ".py",
   "mimetype": "text/x-python",
   "name": "python",
   "nbconvert_exporter": "python",
   "pygments_lexer": "ipython3",
   "version": "3.9.12"
  }
 },
 "nbformat": 4,
 "nbformat_minor": 5
}
