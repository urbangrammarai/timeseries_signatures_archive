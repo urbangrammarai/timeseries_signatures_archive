{
 "cells": [
  {
   "cell_type": "markdown",
   "id": "35d2a7e6-d20c-4443-a9bd-91b8469852c3",
   "metadata": {},
   "source": [
    "# Extract North East "
   ]
  },
  {
   "cell_type": "code",
   "execution_count": 26,
   "id": "b1168441-20c5-4123-8cbe-d3954573c610",
   "metadata": {},
   "outputs": [],
   "source": [
    "import rioxarray, xarray\n",
    "import geopandas\n",
    "from shapely.geometry import box\n",
    "from geocube.api.core import make_geocube"
   ]
  },
  {
   "cell_type": "markdown",
   "id": "41766db1-59c4-492e-9b32-6a476a2fbedf",
   "metadata": {},
   "source": [
    "Set up a (local) `dask` cluster:"
   ]
  },
  {
   "cell_type": "code",
   "execution_count": 2,
   "id": "2a1292de-e260-4c28-b5f2-6ec1456d390d",
   "metadata": {},
   "outputs": [
    {
     "data": {
      "text/html": [
       "<div>\n",
       "    <div style=\"width: 24px; height: 24px; background-color: #e1e1e1; border: 3px solid #9D9D9D; border-radius: 5px; position: absolute;\"> </div>\n",
       "    <div style=\"margin-left: 48px;\">\n",
       "        <h3 style=\"margin-bottom: 0px;\">Client</h3>\n",
       "        <p style=\"color: #9D9D9D; margin-bottom: 0px;\">Client-83238f19-02ad-11ed-86f0-0242ac110002</p>\n",
       "        <table style=\"width: 100%; text-align: left;\">\n",
       "\n",
       "        <tr>\n",
       "        \n",
       "            <td style=\"text-align: left;\"><strong>Connection method:</strong> Cluster object</td>\n",
       "            <td style=\"text-align: left;\"><strong>Cluster type:</strong> distributed.LocalCluster</td>\n",
       "        \n",
       "        </tr>\n",
       "\n",
       "        \n",
       "            <tr>\n",
       "                <td style=\"text-align: left;\">\n",
       "                    <strong>Dashboard: </strong> <a href=\"http://127.0.0.1:8787/status\" target=\"_blank\">http://127.0.0.1:8787/status</a>\n",
       "                </td>\n",
       "                <td style=\"text-align: left;\"></td>\n",
       "            </tr>\n",
       "        \n",
       "\n",
       "        </table>\n",
       "\n",
       "        \n",
       "            <details>\n",
       "            <summary style=\"margin-bottom: 20px;\"><h3 style=\"display: inline;\">Cluster Info</h3></summary>\n",
       "            <div class=\"jp-RenderedHTMLCommon jp-RenderedHTML jp-mod-trusted jp-OutputArea-output\">\n",
       "    <div style=\"width: 24px; height: 24px; background-color: #e1e1e1; border: 3px solid #9D9D9D; border-radius: 5px; position: absolute;\">\n",
       "    </div>\n",
       "    <div style=\"margin-left: 48px;\">\n",
       "        <h3 style=\"margin-bottom: 0px; margin-top: 0px;\">LocalCluster</h3>\n",
       "        <p style=\"color: #9D9D9D; margin-bottom: 0px;\">dbc3dec7</p>\n",
       "        <table style=\"width: 100%; text-align: left;\">\n",
       "            <tr>\n",
       "                <td style=\"text-align: left;\">\n",
       "                    <strong>Dashboard:</strong> <a href=\"http://127.0.0.1:8787/status\" target=\"_blank\">http://127.0.0.1:8787/status</a>\n",
       "                </td>\n",
       "                <td style=\"text-align: left;\">\n",
       "                    <strong>Workers:</strong> 4\n",
       "                </td>\n",
       "            </tr>\n",
       "            <tr>\n",
       "                <td style=\"text-align: left;\">\n",
       "                    <strong>Total threads:</strong> 16\n",
       "                </td>\n",
       "                <td style=\"text-align: left;\">\n",
       "                    <strong>Total memory:</strong> 62.49 GiB\n",
       "                </td>\n",
       "            </tr>\n",
       "            \n",
       "            <tr>\n",
       "    <td style=\"text-align: left;\"><strong>Status:</strong> running</td>\n",
       "    <td style=\"text-align: left;\"><strong>Using processes:</strong> True</td>\n",
       "</tr>\n",
       "\n",
       "            \n",
       "        </table>\n",
       "\n",
       "        <details>\n",
       "            <summary style=\"margin-bottom: 20px;\">\n",
       "                <h3 style=\"display: inline;\">Scheduler Info</h3>\n",
       "            </summary>\n",
       "\n",
       "            <div style=\"\">\n",
       "    <div>\n",
       "        <div style=\"width: 24px; height: 24px; background-color: #FFF7E5; border: 3px solid #FF6132; border-radius: 5px; position: absolute;\"> </div>\n",
       "        <div style=\"margin-left: 48px;\">\n",
       "            <h3 style=\"margin-bottom: 0px;\">Scheduler</h3>\n",
       "            <p style=\"color: #9D9D9D; margin-bottom: 0px;\">Scheduler-1b53abaf-02be-466e-a3e4-5780f347b60d</p>\n",
       "            <table style=\"width: 100%; text-align: left;\">\n",
       "                <tr>\n",
       "                    <td style=\"text-align: left;\">\n",
       "                        <strong>Comm:</strong> tcp://127.0.0.1:35147\n",
       "                    </td>\n",
       "                    <td style=\"text-align: left;\">\n",
       "                        <strong>Workers:</strong> 4\n",
       "                    </td>\n",
       "                </tr>\n",
       "                <tr>\n",
       "                    <td style=\"text-align: left;\">\n",
       "                        <strong>Dashboard:</strong> <a href=\"http://127.0.0.1:8787/status\" target=\"_blank\">http://127.0.0.1:8787/status</a>\n",
       "                    </td>\n",
       "                    <td style=\"text-align: left;\">\n",
       "                        <strong>Total threads:</strong> 16\n",
       "                    </td>\n",
       "                </tr>\n",
       "                <tr>\n",
       "                    <td style=\"text-align: left;\">\n",
       "                        <strong>Started:</strong> Just now\n",
       "                    </td>\n",
       "                    <td style=\"text-align: left;\">\n",
       "                        <strong>Total memory:</strong> 62.49 GiB\n",
       "                    </td>\n",
       "                </tr>\n",
       "            </table>\n",
       "        </div>\n",
       "    </div>\n",
       "\n",
       "    <details style=\"margin-left: 48px;\">\n",
       "        <summary style=\"margin-bottom: 20px;\">\n",
       "            <h3 style=\"display: inline;\">Workers</h3>\n",
       "        </summary>\n",
       "\n",
       "        \n",
       "        <div style=\"margin-bottom: 20px;\">\n",
       "            <div style=\"width: 24px; height: 24px; background-color: #DBF5FF; border: 3px solid #4CC9FF; border-radius: 5px; position: absolute;\"> </div>\n",
       "            <div style=\"margin-left: 48px;\">\n",
       "            <details>\n",
       "                <summary>\n",
       "                    <h4 style=\"margin-bottom: 0px; display: inline;\">Worker: 0</h4>\n",
       "                </summary>\n",
       "                <table style=\"width: 100%; text-align: left;\">\n",
       "                    <tr>\n",
       "                        <td style=\"text-align: left;\">\n",
       "                            <strong>Comm: </strong> tcp://127.0.0.1:37789\n",
       "                        </td>\n",
       "                        <td style=\"text-align: left;\">\n",
       "                            <strong>Total threads: </strong> 4\n",
       "                        </td>\n",
       "                    </tr>\n",
       "                    <tr>\n",
       "                        <td style=\"text-align: left;\">\n",
       "                            <strong>Dashboard: </strong> <a href=\"http://127.0.0.1:34943/status\" target=\"_blank\">http://127.0.0.1:34943/status</a>\n",
       "                        </td>\n",
       "                        <td style=\"text-align: left;\">\n",
       "                            <strong>Memory: </strong> 15.62 GiB\n",
       "                        </td>\n",
       "                    </tr>\n",
       "                    <tr>\n",
       "                        <td style=\"text-align: left;\">\n",
       "                            <strong>Nanny: </strong> tcp://127.0.0.1:39407\n",
       "                        </td>\n",
       "                        <td style=\"text-align: left;\"></td>\n",
       "                    </tr>\n",
       "                    <tr>\n",
       "                        <td colspan=\"2\" style=\"text-align: left;\">\n",
       "                            <strong>Local directory: </strong> /home/jovyan/work/code/timeseries_signatures_archive/sandbox/dask-worker-space/worker-7sy8lryc\n",
       "                        </td>\n",
       "                    </tr>\n",
       "\n",
       "                    \n",
       "\n",
       "                    \n",
       "\n",
       "                </table>\n",
       "            </details>\n",
       "            </div>\n",
       "        </div>\n",
       "        \n",
       "        <div style=\"margin-bottom: 20px;\">\n",
       "            <div style=\"width: 24px; height: 24px; background-color: #DBF5FF; border: 3px solid #4CC9FF; border-radius: 5px; position: absolute;\"> </div>\n",
       "            <div style=\"margin-left: 48px;\">\n",
       "            <details>\n",
       "                <summary>\n",
       "                    <h4 style=\"margin-bottom: 0px; display: inline;\">Worker: 1</h4>\n",
       "                </summary>\n",
       "                <table style=\"width: 100%; text-align: left;\">\n",
       "                    <tr>\n",
       "                        <td style=\"text-align: left;\">\n",
       "                            <strong>Comm: </strong> tcp://127.0.0.1:46673\n",
       "                        </td>\n",
       "                        <td style=\"text-align: left;\">\n",
       "                            <strong>Total threads: </strong> 4\n",
       "                        </td>\n",
       "                    </tr>\n",
       "                    <tr>\n",
       "                        <td style=\"text-align: left;\">\n",
       "                            <strong>Dashboard: </strong> <a href=\"http://127.0.0.1:38367/status\" target=\"_blank\">http://127.0.0.1:38367/status</a>\n",
       "                        </td>\n",
       "                        <td style=\"text-align: left;\">\n",
       "                            <strong>Memory: </strong> 15.62 GiB\n",
       "                        </td>\n",
       "                    </tr>\n",
       "                    <tr>\n",
       "                        <td style=\"text-align: left;\">\n",
       "                            <strong>Nanny: </strong> tcp://127.0.0.1:42993\n",
       "                        </td>\n",
       "                        <td style=\"text-align: left;\"></td>\n",
       "                    </tr>\n",
       "                    <tr>\n",
       "                        <td colspan=\"2\" style=\"text-align: left;\">\n",
       "                            <strong>Local directory: </strong> /home/jovyan/work/code/timeseries_signatures_archive/sandbox/dask-worker-space/worker-2ekow_03\n",
       "                        </td>\n",
       "                    </tr>\n",
       "\n",
       "                    \n",
       "\n",
       "                    \n",
       "\n",
       "                </table>\n",
       "            </details>\n",
       "            </div>\n",
       "        </div>\n",
       "        \n",
       "        <div style=\"margin-bottom: 20px;\">\n",
       "            <div style=\"width: 24px; height: 24px; background-color: #DBF5FF; border: 3px solid #4CC9FF; border-radius: 5px; position: absolute;\"> </div>\n",
       "            <div style=\"margin-left: 48px;\">\n",
       "            <details>\n",
       "                <summary>\n",
       "                    <h4 style=\"margin-bottom: 0px; display: inline;\">Worker: 2</h4>\n",
       "                </summary>\n",
       "                <table style=\"width: 100%; text-align: left;\">\n",
       "                    <tr>\n",
       "                        <td style=\"text-align: left;\">\n",
       "                            <strong>Comm: </strong> tcp://127.0.0.1:33575\n",
       "                        </td>\n",
       "                        <td style=\"text-align: left;\">\n",
       "                            <strong>Total threads: </strong> 4\n",
       "                        </td>\n",
       "                    </tr>\n",
       "                    <tr>\n",
       "                        <td style=\"text-align: left;\">\n",
       "                            <strong>Dashboard: </strong> <a href=\"http://127.0.0.1:37307/status\" target=\"_blank\">http://127.0.0.1:37307/status</a>\n",
       "                        </td>\n",
       "                        <td style=\"text-align: left;\">\n",
       "                            <strong>Memory: </strong> 15.62 GiB\n",
       "                        </td>\n",
       "                    </tr>\n",
       "                    <tr>\n",
       "                        <td style=\"text-align: left;\">\n",
       "                            <strong>Nanny: </strong> tcp://127.0.0.1:43669\n",
       "                        </td>\n",
       "                        <td style=\"text-align: left;\"></td>\n",
       "                    </tr>\n",
       "                    <tr>\n",
       "                        <td colspan=\"2\" style=\"text-align: left;\">\n",
       "                            <strong>Local directory: </strong> /home/jovyan/work/code/timeseries_signatures_archive/sandbox/dask-worker-space/worker-_j3629kl\n",
       "                        </td>\n",
       "                    </tr>\n",
       "\n",
       "                    \n",
       "\n",
       "                    \n",
       "\n",
       "                </table>\n",
       "            </details>\n",
       "            </div>\n",
       "        </div>\n",
       "        \n",
       "        <div style=\"margin-bottom: 20px;\">\n",
       "            <div style=\"width: 24px; height: 24px; background-color: #DBF5FF; border: 3px solid #4CC9FF; border-radius: 5px; position: absolute;\"> </div>\n",
       "            <div style=\"margin-left: 48px;\">\n",
       "            <details>\n",
       "                <summary>\n",
       "                    <h4 style=\"margin-bottom: 0px; display: inline;\">Worker: 3</h4>\n",
       "                </summary>\n",
       "                <table style=\"width: 100%; text-align: left;\">\n",
       "                    <tr>\n",
       "                        <td style=\"text-align: left;\">\n",
       "                            <strong>Comm: </strong> tcp://127.0.0.1:45079\n",
       "                        </td>\n",
       "                        <td style=\"text-align: left;\">\n",
       "                            <strong>Total threads: </strong> 4\n",
       "                        </td>\n",
       "                    </tr>\n",
       "                    <tr>\n",
       "                        <td style=\"text-align: left;\">\n",
       "                            <strong>Dashboard: </strong> <a href=\"http://127.0.0.1:39063/status\" target=\"_blank\">http://127.0.0.1:39063/status</a>\n",
       "                        </td>\n",
       "                        <td style=\"text-align: left;\">\n",
       "                            <strong>Memory: </strong> 15.62 GiB\n",
       "                        </td>\n",
       "                    </tr>\n",
       "                    <tr>\n",
       "                        <td style=\"text-align: left;\">\n",
       "                            <strong>Nanny: </strong> tcp://127.0.0.1:37485\n",
       "                        </td>\n",
       "                        <td style=\"text-align: left;\"></td>\n",
       "                    </tr>\n",
       "                    <tr>\n",
       "                        <td colspan=\"2\" style=\"text-align: left;\">\n",
       "                            <strong>Local directory: </strong> /home/jovyan/work/code/timeseries_signatures_archive/sandbox/dask-worker-space/worker-1c0guvs3\n",
       "                        </td>\n",
       "                    </tr>\n",
       "\n",
       "                    \n",
       "\n",
       "                    \n",
       "\n",
       "                </table>\n",
       "            </details>\n",
       "            </div>\n",
       "        </div>\n",
       "        \n",
       "\n",
       "    </details>\n",
       "</div>\n",
       "\n",
       "        </details>\n",
       "    </div>\n",
       "</div>\n",
       "            </details>\n",
       "        \n",
       "\n",
       "    </div>\n",
       "</div>"
      ],
      "text/plain": [
       "<Client: 'tcp://127.0.0.1:35147' processes=4 threads=16, memory=62.49 GiB>"
      ]
     },
     "execution_count": 2,
     "metadata": {},
     "output_type": "execute_result"
    }
   ],
   "source": [
    "from dask.distributed import Client, LocalCluster\n",
    "client = Client(LocalCluster())\n",
    "client"
   ]
  },
  {
   "cell_type": "markdown",
   "id": "95679eb9-32ee-4516-a021-36518a073046",
   "metadata": {},
   "source": [
    "## Mosaic"
   ]
  },
  {
   "cell_type": "markdown",
   "id": "126cdb4a-e42d-4f3b-a9be-76e1a08d1c3e",
   "metadata": {},
   "source": [
    "Connect to mosaic:"
   ]
  },
  {
   "cell_type": "code",
   "execution_count": 5,
   "id": "1cf41913-971b-456f-92b7-f0143de0b792",
   "metadata": {},
   "outputs": [],
   "source": [
    "mosaic_path = '/home/jovyan/data/ghs_composite_s2/GHS-composite-S2.vrt'\n",
    "mosaic = rioxarray.open_rasterio(mosaic_path, chunks=True)"
   ]
  },
  {
   "cell_type": "markdown",
   "id": "5f5cc001-2fce-4959-9eab-a2715355adda",
   "metadata": {},
   "source": [
    "Pick bounds:"
   ]
  },
  {
   "cell_type": "code",
   "execution_count": 13,
   "id": "4ac706ea-a4f4-4001-9966-5b26a52072df",
   "metadata": {},
   "outputs": [],
   "source": [
    "minx, miny, maxx, maxy = bb = geopandas.GeoSeries(\n",
    "    [box(        \n",
    "        -1.845703125, \n",
    "        54.835500081451656,\n",
    "        -1.33209228515625,\n",
    "        55.06421406528486\n",
    "    )],\n",
    "    crs='EPSG:4326'\n",
    ").to_crs(\n",
    "    mosaic.rio.crs\n",
    ").total_bounds"
   ]
  },
  {
   "cell_type": "markdown",
   "id": "13b8d76e-4255-441d-a2f2-a94062303f82",
   "metadata": {},
   "source": [
    "Select bands and extent:"
   ]
  },
  {
   "cell_type": "code",
   "execution_count": 16,
   "id": "91903543-858d-47f2-838f-1e4802aae874",
   "metadata": {},
   "outputs": [],
   "source": [
    "ne = mosaic.sel(\n",
    "    band=[1, 2, 3],\n",
    "    x=slice(minx, maxx),\n",
    "    y=slice(maxy, miny)\n",
    ").compute()"
   ]
  },
  {
   "cell_type": "code",
   "execution_count": 18,
   "id": "f292aa9b-749d-42f8-b025-c90213f162c0",
   "metadata": {},
   "outputs": [],
   "source": [
    "ne.rio.to_raster('ne_mosaic.tif', tiled=True)"
   ]
  },
  {
   "cell_type": "markdown",
   "id": "69feb9a6-5fdd-4bc6-96f7-558c3bb06597",
   "metadata": {},
   "source": [
    "Signatures as float:"
   ]
  },
  {
   "cell_type": "code",
   "execution_count": 46,
   "id": "5b61c8e6-06c6-4896-b16e-7eb2ecf18a56",
   "metadata": {
    "tags": []
   },
   "outputs": [],
   "source": [
    "ss['signature_type_f'] = (\n",
    "    ss['k8'] * 10\n",
    ") + ss['level2']"
   ]
  },
  {
   "cell_type": "markdown",
   "id": "95df57be-2822-4186-b707-78cf45aa2b90",
   "metadata": {},
   "source": [
    "## Signatures"
   ]
  },
  {
   "cell_type": "markdown",
   "id": "8bf128f5-044f-4f31-ad66-196e69745bc5",
   "metadata": {},
   "source": [
    "- Read vector"
   ]
  },
  {
   "cell_type": "code",
   "execution_count": 62,
   "id": "012b008b-9301-4ecf-a4b5-d62bc900bea9",
   "metadata": {},
   "outputs": [],
   "source": [
    "ss = geopandas.read_file(\n",
    "    '/home/jovyan/data/spatial_signatures/'\n",
    "    'spatial_signatures_GB.gpkg'\n",
    ").to_crs(mosaic.rio.crs)"
   ]
  },
  {
   "cell_type": "markdown",
   "id": "86d47413-145e-4f7e-b66c-ddbf528ca9c5",
   "metadata": {},
   "source": [
    "Simplified version (which is incomplete):"
   ]
  },
  {
   "cell_type": "code",
   "execution_count": 67,
   "id": "dc9068fd-434d-4a70-9820-b93256c2e8e1",
   "metadata": {},
   "outputs": [],
   "source": [
    "sss = geopandas.read_parquet(\n",
    "    '/home/jovyan/data/spatial_signatures/'\n",
    "    'signatures_form_combined_levels_simplified.pq'\n",
    ").to_crs(mosaic.rio.crs)"
   ]
  },
  {
   "cell_type": "markdown",
   "id": "88c36f46-04c1-4ef5-a312-ea31a4d9ac98",
   "metadata": {},
   "source": [
    "- Build dictionary"
   ]
  },
  {
   "cell_type": "code",
   "execution_count": 87,
   "id": "ed626456-f7ff-4527-bbd3-9f4d1ee2c021",
   "metadata": {},
   "outputs": [
    {
     "data": {
      "text/plain": [
       "{0: 'Countryside agriculture',\n",
       " 1: 'Accessible suburbia',\n",
       " 2: 'Open sprawl',\n",
       " 3: 'Wild countryside',\n",
       " 4: 'Warehouse/Park land',\n",
       " 5: 'Gridded residential quarters',\n",
       " 6: 'Urban buffer',\n",
       " 7: 'Disconnected suburbia',\n",
       " 8: 'Dense residential neighbourhoods',\n",
       " 9: 'Connected residential neighbourhoods',\n",
       " 10: 'Dense urban neighbourhoods',\n",
       " 11: 'Local urbanity',\n",
       " 12: 'Concentrated urbanity',\n",
       " 13: 'Regional urbanity',\n",
       " 14: 'outlier',\n",
       " 15: 'Metropolitan urbanity',\n",
       " 16: 'Hyper concentrated urbanity'}"
      ]
     },
     "execution_count": 87,
     "metadata": {},
     "output_type": "execute_result"
    }
   ],
   "source": [
    "types = {i: j[1]['type'] for i, j in enumerate(\n",
    "    ss[['code', 'type']].drop_duplicates().iterrows()\n",
    ")}\n",
    "types_r = {types[i]: i for i in types}\n",
    "types"
   ]
  },
  {
   "cell_type": "code",
   "execution_count": 93,
   "id": "4a67a232-e243-4d4f-a43f-1b1ea8ecca62",
   "metadata": {},
   "outputs": [],
   "source": [
    "from json import dump\n",
    "with open('classes.json', 'w') as fo:\n",
    "    dump(types, fo)"
   ]
  },
  {
   "cell_type": "markdown",
   "id": "ca37f9da-83a2-47fa-931f-e4e0fde05311",
   "metadata": {},
   "source": [
    "- Add float column"
   ]
  },
  {
   "cell_type": "code",
   "execution_count": 88,
   "id": "64920edf-a97a-42b5-9492-1cbeb019aba6",
   "metadata": {},
   "outputs": [],
   "source": [
    "ss['code_no'] = ss['code'].map(types_r)"
   ]
  },
  {
   "cell_type": "markdown",
   "id": "e516bc40-0749-4e58-98b6-15f45f5bbf94",
   "metadata": {},
   "source": [
    "- Rasterise polygons"
   ]
  },
  {
   "cell_type": "code",
   "execution_count": 89,
   "id": "e66895ad-3204-4a58-bbb2-5912ddf37dec",
   "metadata": {},
   "outputs": [
    {
     "name": "stdout",
     "output_type": "stream",
     "text": [
      "CPU times: user 1min 10s, sys: 2.27 s, total: 1min 12s\n",
      "Wall time: 1min 11s\n"
     ]
    }
   ],
   "source": [
    "%%time\n",
    "signatures_raster = make_geocube(\n",
    "    ss, measurements=[\"code_no\"], like=ne\n",
    ")"
   ]
  },
  {
   "cell_type": "markdown",
   "id": "754b60b7-9c6f-41d1-aec1-be8b1cb405e0",
   "metadata": {},
   "source": [
    "- Write out"
   ]
  },
  {
   "cell_type": "code",
   "execution_count": 90,
   "id": "58176389-48a6-4546-8d52-a302cc535d6c",
   "metadata": {},
   "outputs": [],
   "source": [
    "signatures_raster['code_no'].rio.to_raster('signatures.tif', tiled=True)"
   ]
  }
 ],
 "metadata": {
  "kernelspec": {
   "display_name": "Python 3 (ipykernel)",
   "language": "python",
   "name": "python3"
  },
  "language_info": {
   "codemirror_mode": {
    "name": "ipython",
    "version": 3
   },
   "file_extension": ".py",
   "mimetype": "text/x-python",
   "name": "python",
   "nbconvert_exporter": "python",
   "pygments_lexer": "ipython3",
   "version": "3.9.12"
  }
 },
 "nbformat": 4,
 "nbformat_minor": 5
}
